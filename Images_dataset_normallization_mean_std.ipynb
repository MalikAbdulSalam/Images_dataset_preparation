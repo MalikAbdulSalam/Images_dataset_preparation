{
  "nbformat": 4,
  "nbformat_minor": 0,
  "metadata": {
    "colab": {
      "provenance": []
    },
    "kernelspec": {
      "name": "python3",
      "display_name": "Python 3"
    },
    "language_info": {
      "name": "python"
    }
  },
  "cells": [
    {
      "cell_type": "markdown",
      "source": [
        "## Computing Mean & STD in Image Dataset for dataset Normallization using pytorch"
      ],
      "metadata": {
        "id": "ge55G8b8V4j8"
      }
    },
    {
      "cell_type": "markdown",
      "source": [
        "## import libraries\n",
        "\n"
      ],
      "metadata": {
        "id": "G76iqfzhWM4E"
      }
    },
    {
      "cell_type": "code",
      "execution_count": 2,
      "metadata": {
        "id": "S55-Dg3JJNw-"
      },
      "outputs": [],
      "source": [
        "import os\n",
        "import torch\n",
        "import torchvision\n",
        "import torchvision.transforms as transforms"
      ]
    },
    {
      "cell_type": "markdown",
      "source": [
        "## Upload data set in your google drive and mount drive with google colab"
      ],
      "metadata": {
        "id": "uIrOdny9WQWo"
      }
    },
    {
      "cell_type": "code",
      "source": [
        "from google.colab import drive\n",
        "drive.mount('/content/drive')"
      ],
      "metadata": {
        "colab": {
          "base_uri": "https://localhost:8080/"
        },
        "id": "OhWTyHuQJYMd",
        "outputId": "f3dfc66d-fa98-4bea-fe28-51b5da428dbe"
      },
      "execution_count": 1,
      "outputs": [
        {
          "output_type": "stream",
          "name": "stdout",
          "text": [
            "Mounted at /content/drive\n"
          ]
        }
      ]
    },
    {
      "cell_type": "markdown",
      "source": [
        "## Navigate to training dataset and find its path"
      ],
      "metadata": {
        "id": "IgVn39_8WnQ9"
      }
    },
    {
      "cell_type": "code",
      "source": [
        "os.listdir('./drive/MyDrive/training_dataset_path_inside-gdrive')"
      ],
      "metadata": {
        "id": "rYxX_CQ8J6so"
      },
      "execution_count": null,
      "outputs": []
    },
    {
      "cell_type": "code",
      "source": [
        "training_dataset_path = './drive/MyDrive/training_dataset_path_inside-gdrive'"
      ],
      "metadata": {
        "id": "irShDwkQKQcf"
      },
      "execution_count": 9,
      "outputs": []
    },
    {
      "cell_type": "markdown",
      "source": [
        "## Training Transform"
      ],
      "metadata": {
        "id": "F7zW4OSXXHY1"
      }
    },
    {
      "cell_type": "code",
      "source": [
        "training_transform = transforms.Compose([transforms.Resize((224,224)),transforms.ToTensor()])"
      ],
      "metadata": {
        "id": "npZSD7-hK8qb"
      },
      "execution_count": 11,
      "outputs": []
    },
    {
      "cell_type": "code",
      "source": [
        "train_dataset = torchvision.datasets.ImageFolder(root = training_dataset_path, transform =training_transform )"
      ],
      "metadata": {
        "id": "f0M9xEkyLpwQ"
      },
      "execution_count": 12,
      "outputs": []
    },
    {
      "cell_type": "markdown",
      "source": [
        "## Now make dataloader"
      ],
      "metadata": {
        "id": "sl5bDiX1Mk2j"
      }
    },
    {
      "cell_type": "code",
      "source": [
        "from torch.utils.data import Dataset, DataLoader"
      ],
      "metadata": {
        "id": "nduyOuh7N2aP"
      },
      "execution_count": 16,
      "outputs": []
    },
    {
      "cell_type": "code",
      "source": [
        "train_loader = torch.utils.data.DataLoader(dataset = train_dataset, batch_size = 32, shuffle = False)"
      ],
      "metadata": {
        "id": "rN5ikOBZMnEP"
      },
      "execution_count": 19,
      "outputs": []
    },
    {
      "cell_type": "markdown",
      "source": [
        "## Function for calculating mean and Standard deviation"
      ],
      "metadata": {
        "id": "WLTbntFfOWpx"
      }
    },
    {
      "cell_type": "code",
      "source": [
        "def get_mean_and_std(loader):\n",
        "  mean = 0.\n",
        "  std = 0.\n",
        "  tatal_image_count = 0\n",
        "  for images, _ in loader:\n",
        "    image_count_in_batch = images.size(0)\n",
        "    print(image_count_in_batch)\n",
        "    images = images.view(image_count_in_batch, images.size(1), -1)\n",
        "    mean += images.mean(2).sum(0)\n",
        "    std += images.std(2).sum(0)\n",
        "    tatal_image_count += image_count_in_batch\n",
        "  mean/= tatal_image_count\n",
        "  std/= tatal_image_count\n",
        "  return mean , std"
      ],
      "metadata": {
        "id": "qnhsnBS-NGXn"
      },
      "execution_count": 38,
      "outputs": []
    },
    {
      "cell_type": "markdown",
      "source": [
        "## Pass dataloader to function in order to find Mean and Standard deviation"
      ],
      "metadata": {
        "id": "Qeo_CpuyX79D"
      }
    },
    {
      "cell_type": "code",
      "source": [
        "get_mean_and_std(train_loader)"
      ],
      "metadata": {
        "id": "zJFPlpUUPUme"
      },
      "execution_count": null,
      "outputs": []
    },
    {
      "cell_type": "code",
      "source": [],
      "metadata": {
        "id": "pogzF66xSv8Z"
      },
      "execution_count": null,
      "outputs": []
    }
  ]
}